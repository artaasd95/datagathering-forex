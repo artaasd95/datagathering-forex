{
 "cells": [
  {
   "cell_type": "code",
   "execution_count": 1,
   "metadata": {},
   "outputs": [],
   "source": [
    "# If not already installed, uncomment the next line:\n",
    "# !pip install pymongo pandas\n",
    "\n",
    "import pandas as pd\n",
    "from pymongo import MongoClient, errors\n",
    "import datetime\n",
    "import re\n",
    "from pathlib import Path"
   ]
  },
  {
   "cell_type": "code",
   "execution_count": null,
   "metadata": {},
   "outputs": [],
   "source": [
    "def parse_filename(filename):\n",
    "    \"\"\"\n",
    "    Parse filename like XAUUSD_M1_202502071057_202505221032.csv\n",
    "    Returns: symbol, timeframe, start_str, end_str\n",
    "    \"\"\"\n",
    "    pattern = r\"([A-Z]+)_([A-Z0-9]+)_(\\d{12})_(\\d{12})\\.csv\"\n",
    "    match = re.match(pattern, filename)\n",
    "    if not match:\n",
    "        raise ValueError(\"Filename does not match expected pattern\")\n",
    "    symbol, timeframe, start_str, end_str = match.groups()\n",
    "    return symbol, timeframe, start_str, end_str\n",
    "\n",
    "def str_to_datetime(dt_str):\n",
    "    \"\"\"Convert string like 202502071057 to datetime\"\"\"\n",
    "    return datetime.datetime.strptime(dt_str, \"%Y%m%d%H%M\")"
   ]
  },
  {
   "cell_type": "code",
   "execution_count": null,
   "metadata": {},
   "outputs": [],
   "source": [
    "mongo_uri = \"mongodb://localhost:27017/\"\n",
    "db_name = \"mt5_historical_data\"\n",
    "client = MongoClient(mongo_uri)\n",
    "db = client[db_name]"
   ]
  },
  {
   "cell_type": "code",
   "execution_count": null,
   "metadata": {},
   "outputs": [],
   "source": [
    "csv_path = \"XAUUSD_M1_202502071057_202505221032.csv\"  # Change as needed\n",
    "symbol, timeframe, start_str, end_str = parse_filename(Path(csv_path).name)\n",
    "start_dt = str_to_datetime(start_str)\n",
    "end_dt = str_to_datetime(end_str)\n",
    "\n",
    "# Read CSV\n",
    "df = pd.read_csv(csv_path)\n",
    "# If symbol is not in the CSV, add it\n",
    "if 'symbol' not in df.columns:\n",
    "    df['symbol'] = symbol"
   ]
  },
  {
   "cell_type": "code",
   "execution_count": null,
   "metadata": {},
   "outputs": [],
   "source": [
    "collection_name = f\"candles_{symbol}_{timeframe}\"\n",
    "col = db[collection_name]\n",
    "col.create_index([(\"symbol\", 1), (\"time\", 1)], unique=True)\n",
    "\n",
    "inserted = 0\n",
    "for record in df.to_dict(orient='records'):\n",
    "    try:\n",
    "        col.insert_one(record)\n",
    "        inserted += 1\n",
    "    except errors.DuplicateKeyError:\n",
    "        pass  # Skip duplicates\n",
    "\n",
    "print(f\"Inserted {inserted} new documents into {collection_name}\")"
   ]
  },
  {
   "cell_type": "code",
   "execution_count": null,
   "metadata": {},
   "outputs": [],
   "source": [
    "meta_col = db[\"imported_ranges\"]\n",
    "meta_doc = {\n",
    "    \"symbol\": symbol,\n",
    "    \"timeframe\": timeframe,\n",
    "    \"start_datetime\": start_dt,\n",
    "    \"end_datetime\": end_dt,\n",
    "    \"filename\": Path(csv_path).name,\n",
    "    \"imported_at\": datetime.datetime.utcnow()\n",
    "}\n",
    "# Upsert: if a document with same symbol, timeframe, and filename exists, update it; else insert new\n",
    "meta_col.update_one(\n",
    "    {\"symbol\": symbol, \"timeframe\": timeframe, \"filename\": Path(csv_path).name},\n",
    "    {\"$set\": meta_doc},\n",
    "    upsert=True\n",
    ")\n",
    "print(\"Metadata updated.\")"
   ]
  },
  {
   "cell_type": "code",
   "execution_count": null,
   "metadata": {},
   "outputs": [],
   "source": [
    "for doc in meta_col.find({\"symbol\": symbol, \"timeframe\": timeframe}):\n",
    "    print(doc)"
   ]
  }
 ],
 "metadata": {
  "kernelspec": {
   "display_name": "torch",
   "language": "python",
   "name": "python3"
  },
  "language_info": {
   "codemirror_mode": {
    "name": "ipython",
    "version": 3
   },
   "file_extension": ".py",
   "mimetype": "text/x-python",
   "name": "python",
   "nbconvert_exporter": "python",
   "pygments_lexer": "ipython3",
   "version": "3.11.0"
  }
 },
 "nbformat": 4,
 "nbformat_minor": 2
}
