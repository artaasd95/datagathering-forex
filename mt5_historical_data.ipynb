{
 "cells": [
  {
   "cell_type": "markdown",
   "metadata": {},
   "source": [
    "# MT5 Historical Data Fetcher\n",
    "\n",
    "This notebook fetches historical data from MetaTrader 5 in chunks of 1000 bars and combines them into a pandas DataFrame."
   ]
  },
  {
   "cell_type": "code",
   "execution_count": 1,
   "metadata": {},
   "outputs": [],
   "source": [
    "import MetaTrader5 as mt5\n",
    "import pandas as pd\n",
    "import datetime\n",
    "import pytz\n",
    "import time\n",
    "import numpy as np\n",
    "import matplotlib.pyplot as plt\n",
    "\n",
    "# Set display options for pandas\n",
    "pd.set_option('display.max_columns', 500)\n",
    "pd.set_option('display.width', 1500)"
   ]
  },
  {
   "cell_type": "markdown",
   "metadata": {},
   "source": [
    "## Initialize MT5 Connection"
   ]
  },
  {
   "cell_type": "code",
   "execution_count": 2,
   "metadata": {},
   "outputs": [
    {
     "name": "stdout",
     "output_type": "stream",
     "text": [
      "MetaTrader5 package version: 5.0.4424\n",
      "MetaTrader5 terminal version: (500, 4755, '13 Dec 2024')\n"
     ]
    }
   ],
   "source": [
    "# Initialize MT5\n",
    "if not mt5.initialize():\n",
    "    print(f\"initialize() failed, error code = {mt5.last_error()}\")\n",
    "    quit()\n",
    "\n",
    "# Display MT5 version\n",
    "print(f\"MetaTrader5 package version: {mt5.__version__}\")\n",
    "print(f\"MetaTrader5 terminal version: {mt5.version()}\")"
   ]
  },
  {
   "cell_type": "markdown",
   "metadata": {},
   "source": [
    "## Define Parameters"
   ]
  },
  {
   "cell_type": "code",
   "execution_count": 10,
   "metadata": {},
   "outputs": [],
   "source": [
    "# Set parameters\n",
    "symbol = \"XAUUSD\"  # Symbol to fetch\n",
    "timeframe = mt5.TIMEFRAME_M1  # Timeframe (H1 = 1 hour)\n",
    "max_bars = 100  # Number of bars to fetch per request\n",
    "\n",
    "# Set timezone to UTC\n",
    "timezone = pytz.timezone(\"Etc/UTC\")\n",
    "\n",
    "# Set start date (adjust as needed)\n",
    "start_date = datetime.datetime(2023, 1, 1, tzinfo=timezone)\n",
    "end_date = datetime.datetime(2023, 12, 31, tzinfo=timezone)"
   ]
  },
  {
   "cell_type": "markdown",
   "metadata": {},
   "source": [
    "## Fetch Historical Data in Chunks"
   ]
  },
  {
   "cell_type": "code",
   "execution_count": 11,
   "metadata": {},
   "outputs": [],
   "source": [
    "def fetch_historical_data(symbol, timeframe, start_date, end_date, max_bars=1000):\n",
    "    \"\"\"Fetch historical data in chunks and combine into a DataFrame\"\"\"\n",
    "    all_data = []\n",
    "    current_date = start_date\n",
    "    \n",
    "    while current_date < end_date:\n",
    "        print(f\"Fetching data from {current_date.isoformat()}\")\n",
    "        \n",
    "        # Fetch data\n",
    "        rates = mt5.copy_rates_from(symbol, timeframe, current_date, max_bars)\n",
    "        print(type(current_date))\n",
    "        print(rates)\n",
    "        \n",
    "        if rates is None or len(rates) == 0:\n",
    "            print(f\"No data returned for {current_date.isoformat()}\")\n",
    "            break\n",
    "            \n",
    "        # Convert to DataFrame\n",
    "        df_chunk = pd.DataFrame(rates)\n",
    "        \n",
    "        # Convert time in seconds into datetime format\n",
    "        df_chunk['time'] = pd.to_datetime(df_chunk['time'], unit='s')\n",
    "        \n",
    "        # Filter out data beyond end_date\n",
    "        df_chunk = df_chunk[df_chunk['time'] <= end_date]\n",
    "        \n",
    "        if len(df_chunk) == 0:\n",
    "            break\n",
    "            \n",
    "        # Add to our collection\n",
    "        all_data.append(df_chunk)\n",
    "        \n",
    "        # Update current_date to the last timestamp + 1 timeframe unit\n",
    "        last_time = df_chunk['time'].iloc[-1]\n",
    "        \n",
    "        # Add appropriate time delta based on timeframe\n",
    "        if timeframe == mt5.TIMEFRAME_M1:\n",
    "            current_date = last_time + datetime.timedelta(minutes=1)\n",
    "        elif timeframe == mt5.TIMEFRAME_M5:\n",
    "            current_date = last_time + datetime.timedelta(minutes=5)\n",
    "        elif timeframe == mt5.TIMEFRAME_M15:\n",
    "            current_date = last_time + datetime.timedelta(minutes=15)\n",
    "        elif timeframe == mt5.TIMEFRAME_M30:\n",
    "            current_date = last_time + datetime.timedelta(minutes=30)\n",
    "        elif timeframe == mt5.TIMEFRAME_H1:\n",
    "            current_date = last_time + datetime.timedelta(hours=1)\n",
    "        elif timeframe == mt5.TIMEFRAME_H4:\n",
    "            current_date = last_time + datetime.timedelta(hours=4)\n",
    "        elif timeframe == mt5.TIMEFRAME_D1:\n",
    "            current_date = last_time + datetime.timedelta(days=1)\n",
    "        \n",
    "        # If we got fewer than max_bars, there's no more data\n",
    "        if len(rates) < max_bars:\n",
    "            break\n",
    "            \n",
    "        # Add a small delay to avoid overwhelming the MT5 API\n",
    "        time.sleep(0.1)\n",
    "    \n",
    "    # Combine all chunks into a single DataFrame\n",
    "    if all_data:\n",
    "        df = pd.concat(all_data, ignore_index=True)\n",
    "        return df\n",
    "    else:\n",
    "        return pd.DataFrame()"
   ]
  },
  {
   "cell_type": "code",
   "execution_count": 12,
   "metadata": {},
   "outputs": [
    {
     "name": "stdout",
     "output_type": "stream",
     "text": [
      "Fetching data from 2023-01-01T00:00:00+00:00\n",
      "<class 'datetime.datetime'>\n",
      "None\n",
      "No data returned for 2023-01-01T00:00:00+00:00\n",
      "Total rows: 0\n"
     ]
    },
    {
     "data": {
      "text/html": [
       "<div>\n",
       "<style scoped>\n",
       "    .dataframe tbody tr th:only-of-type {\n",
       "        vertical-align: middle;\n",
       "    }\n",
       "\n",
       "    .dataframe tbody tr th {\n",
       "        vertical-align: top;\n",
       "    }\n",
       "\n",
       "    .dataframe thead th {\n",
       "        text-align: right;\n",
       "    }\n",
       "</style>\n",
       "<table border=\"1\" class=\"dataframe\">\n",
       "  <thead>\n",
       "    <tr style=\"text-align: right;\">\n",
       "      <th></th>\n",
       "    </tr>\n",
       "  </thead>\n",
       "  <tbody>\n",
       "  </tbody>\n",
       "</table>\n",
       "</div>"
      ],
      "text/plain": [
       "Empty DataFrame\n",
       "Columns: []\n",
       "Index: []"
      ]
     },
     "execution_count": 12,
     "metadata": {},
     "output_type": "execute_result"
    }
   ],
   "source": [
    "# Fetch the data\n",
    "df = fetch_historical_data(symbol, timeframe, start_date, end_date, max_bars)\n",
    "\n",
    "# Display the first few rows\n",
    "print(f\"Total rows: {len(df)}\")\n",
    "df.head()"
   ]
  },
  {
   "cell_type": "markdown",
   "metadata": {},
   "source": [
    "## Basic Data Analysis"
   ]
  },
  {
   "cell_type": "code",
   "execution_count": null,
   "metadata": {},
   "outputs": [],
   "source": [
    "# Check for missing values\n",
    "print(\"Missing values:\")\n",
    "print(df.isnull().sum())"
   ]
  },
  {
   "cell_type": "code",
   "execution_count": null,
   "metadata": {},
   "outputs": [],
   "source": [
    "# Plot the closing prices\n",
    "plt.figure(figsize=(14, 7))\n",
    "plt.plot(df['time'], df['close'])\n",
    "plt.title(f'{symbol} Closing Prices')\n",
    "plt.xlabel('Date')\n",
    "plt.ylabel('Price')\n",
    "plt.grid(True)\n",
    "plt.show()"
   ]
  },
  {
   "cell_type": "code",
   "execution_count": null,
   "metadata": {},
   "outputs": [],
   "source": [
    "# Calculate daily returns\n",
    "df['returns'] = df['close'].pct_change()\n",
    "\n",
    "# Plot the returns\n",
    "plt.figure(figsize=(14, 7))\n",
    "plt.plot(df['time'], df['returns'])\n",
    "plt.title(f'{symbol} Returns')\n",
    "plt.xlabel('Date')\n",
    "plt.ylabel('Returns')\n",
    "plt.grid(True)\n",
    "plt.show()"
   ]
  },
  {
   "cell_type": "code",
   "execution_count": null,
   "metadata": {},
   "outputs": [],
   "source": [
    "# Save the data to CSV\n",
    "output_file = f\"{symbol}_{timeframe}_data.csv\"\n",
    "df.to_csv(output_file, index=False)\n",
    "print(f\"Data saved to {output_file}\")"
   ]
  },
  {
   "cell_type": "code",
   "execution_count": null,
   "metadata": {},
   "outputs": [],
   "source": [
    "# Shutdown MT5 connection\n",
    "mt5.shutdown()"
   ]
  }
 ],
 "metadata": {
  "kernelspec": {
   "display_name": "torch",
   "language": "python",
   "name": "python3"
  },
  "language_info": {
   "codemirror_mode": {
    "name": "ipython",
    "version": 3
   },
   "file_extension": ".py",
   "mimetype": "text/x-python",
   "name": "python",
   "nbconvert_exporter": "python",
   "pygments_lexer": "ipython3",
   "version": "3.11.0"
  }
 },
 "nbformat": 4,
 "nbformat_minor": 4
}
